{
 "cells": [
  {
   "cell_type": "markdown",
   "metadata": {},
   "source": [
    "# Designing Data-Intensive Applications 1\n",
    "\n",
    "## Chapter 1"
   ]
  },
  {
   "cell_type": "markdown",
   "metadata": {},
   "source": [
    " \n",
    "- 1 There is a set of rules in order to reduce the complexity, these rules to reduce complexity belongs to a class. Can you mention that class? Provide some examples of magaging complexity\n",
    "\n",
    "R.-Simplicity, explosion of the state space, tight coupling of modules, tangled dependencies, inconsistent naming and terminology, hacks aimed at solving performance problems, special-casing to work around issues elsewhere\n",
    "\n",
    "- 2 Imagine that you are working in a water fall, the data designer provides you the description of the loading of data to your system, what is the next step? Can you provide a question that shoud be aked to start with this step?\n",
    "\n",
    "R.-Description of the Performance.\n",
    "\n",
    " When you increase a load parameter and keep the system resources (CPU, memory, network bandwidth, etc.) unchanged, how is the performance of your system affected?\n",
    "\n",
    "When you increase a load parameter, how much do you need to increase the resources if you want to keep performance unchanged?\n",
    "\n",
    "- 3 Imagine that you have been called to solve a problem where you have been told that it returns corruped response, which set of tools would you use to solve this problem? Is it pertinent to say that is easy to solve and you have a quick solution?\n",
    "\n",
    "R.- No, as long as it seems to be a systematic foult in the software. the set of tools are: Carefully thinking about assumptions and interactions in the system; thorough testing; process isolation; allowing processes to crash and restart; measuring, monitoring, and analyzing system behavior in production\n",
    "\n",
    "- 4 Give a quick definition of Scalability, and now tbhat you know what we are talking about, would you say that scalability is given in 2 axis only? what is the general assuption you must have?\n",
    "\n",
    "R.- Is the term used to describe a system’s ability to cope with increased load. We most start thinking about the different ways we may have in order to provide our software with a wide scope of situations where it can load information, not only in those 2 axis\n",
    "\n",
    "- 5 There exists a property, which can be independent in some way, but no system can run without it. Can you guess which property am I talking about? What is the duty of the operations team?\n",
    " \n",
    "R.- Operability, and some of the duties are: \n",
    "\n",
    "        * Monitoring the health of the system and quickly restoring service if it goes into a bad state\n",
    "         \n",
    "        * Tracking down the cause of problems, such as system failures or degraded performance\n",
    "\n",
    "        * Keeping software and platforms up to date, including security patches\n",
    "\n",
    "\n",
    "- 6 Before getting along with growth questions, what do we need to do first? Which parameter would you use as reference to have a good quality in this part?\n",
    "\n",
    "\n",
    "R.-  we need to succinctly describe the current load on the system,  Load can be described with a few numbers which we call load parameters. The best choice of parameters depends on the architecture of your system: it may be requests per second to a web server, the ratio of reads to writes in a database, the number of simultaneously active users in a chat room, the hit rate on a cache, or something else. Perhaps the average case is what matters for you, or perhaps your bottleneck is dominated by a small number of extreme cases.\n",
    "\n",
    "- 7  Enlist the 3 design principles and give a definition to each one.\n",
    "\n",
    "R.- Operability\n",
    "    \n",
    "    * Make it easy for operations teams to keep the system running smoothly.\n",
    "Simplicity\n",
    "\n",
    "    * Make it easy for new engineers to understand the system, by removing as much complexity as possible from the system. (Note this is not the same as simplicity of the user interface.)\n",
    "Evolvability\n",
    "\n",
    "     * Make it easy for engineers to make changes to the system in the future, adapting it for unanticipated use cases as requirements change. Also known as extensibil‐ ity, modifiability, or plasticity."
   ]
  },
  {
   "cell_type": "markdown",
   "metadata": {},
   "source": [
    "## Chapter 2"
   ]
  },
  {
   "cell_type": "markdown",
   "metadata": {},
   "source": [
    "* 1.- Describe impedance mismatch and give an example of it. Also find in which type of databases is present... \n",
    "\n",
    "R.-  SQL data model: if data is stored in application code and the database model of tables, rows, and columns.  The disconnect between the models is sometimes called an impedance mismatch\n",
    "\n",
    "* 2.- How many directions could a NoSQL database can have, name them, and define them.\n",
    "\n",
    "R.-\n",
    "         - 1. Document databases target use cases where data comes in self-contained documents and relationships between one document and another are rare.\n",
    "       \n",
    "        - 2. Graph databases go in the opposite direction, targeting use cases where anything is potentially related to everything.\n",
    "        \n",
    "* 3 Make a list whith the characteristics of a vertex, and an edge.\n",
    "\n",
    "R.-\n",
    "\n",
    "Each edge consists of:\n",
    "\n",
    "         - A unique identifier\n",
    "        - A set of outgoing edges\n",
    "        - A set of incoming edges\n",
    "        - A collection of properties (key-value pairs)\n",
    "\n",
    "Each edge consists of:\n",
    "\n",
    "        -A unique identifier\n",
    "        -The vertex at which the edge starts (the tail vertex)\n",
    "        -The vertex at which the edge ends (the head vertex)\n",
    "        -A label to describe the kind of relationship between the two vertices\n",
    "        - A collection of properties (key-value pairs)\n",
    "\n",
    "* If you were told to create a social  network for your school, where the user may have interactions, and also, saving some files about the different relationships of each user, what Data Model would you use?\n",
    "\n",
    "R.- I would use an Graph-like Data Model. This because Social graphs, where, Vertices are people, and edges indicate which people know each other, could be very useful in order to reach the needs of this job. Well known algorithms can operate on these graphs: for example, car navigation systems search for the shortest path between two points in a road network. So all this tools are availables, in order to get important insights about the students who are using this network."
   ]
  },
  {
   "cell_type": "code",
   "execution_count": null,
   "metadata": {},
   "outputs": [],
   "source": []
  }
 ],
 "metadata": {
  "kernelspec": {
   "display_name": "Python 3",
   "language": "python",
   "name": "python3"
  },
  "language_info": {
   "codemirror_mode": {
    "name": "ipython",
    "version": 3
   },
   "file_extension": ".py",
   "mimetype": "text/x-python",
   "name": "python",
   "nbconvert_exporter": "python",
   "pygments_lexer": "ipython3",
   "version": "3.7.1"
  }
 },
 "nbformat": 4,
 "nbformat_minor": 2
}
