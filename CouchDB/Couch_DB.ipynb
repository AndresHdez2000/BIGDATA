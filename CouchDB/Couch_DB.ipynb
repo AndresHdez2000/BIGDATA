{
 "cells": [
  {
   "cell_type": "markdown",
   "metadata": {},
   "source": [
    "\n",
    "# Couch DB \n",
    "\n",
    "\n",
    "### Check if your server is running corrctly:\n",
    "\n",
    "curl http://127.0.0.1:5984/\n",
    "\n",
    "\n",
    "###Lets get started:\n",
    "This will create a new database, you don't need to input file names to create it\n",
    "curl -X PUT http://127.0.0.1:5984/test_1\n",
    "\n",
    "Now, it is important to say that if the database already exists, as long as you are specfy to PUT, you will recive an error \n",
    "\n",
    "Now if you want the details of the database, you migh use the \"-v\" in order to get the specific information about the database\n",
    "curl -vX PUT http://127.0.0.1:5984/test_1\n",
    "{\n",
    "* About to connect() to 127.0.0.1 port 5984 (#0)\n",
    "*   Trying 127.0.0.1... connected\n",
    "* Connected to 127.0.0.1 (127.0.0.1) port 5984 (#0)\n",
    "> PUT /albums-backup HTTP/1.1\n",
    "> User-Agent: curl/7.16.3 (powerpc-apple-darwin9.0) libcurl/7.16.3 OpenSSL/0.9.7l zlib/1.2.3\n",
    "> Host: 127.0.0.1:5984\n",
    "> Accept: */*\n",
    ">\n",
    "< HTTP/1.1 201 Created\n",
    "< Server: CouchDB (Erlang/OTP)\n",
    "< Date: Sun, 05 Jul 2009 22:48:28 GMT\n",
    "< Content-Type: text/plain;charset=utf-8\n",
    "< Content-Length: 12\n",
    "< Cache-Control: must-revalidate\n",
    "<\n",
    "{\"ok\":true}\n",
    "* Connection #0 to host 127.0.0.1 left intact\n",
    "* Closing connection #0\n",
    "}\n",
    "\n",
    "\n",
    "\n",
    "### CREATING FILES:\n",
    "\n",
    "To get access to the datasets, you might want to use this line, because it is going to  return you a json \n",
    "with the information you need to access and input a document\n",
    "\n",
    "curl -X GET http://127.0.0.1:5984/_uuids\n",
    "RETRUNS:\n",
    "{\"uuids\":[\"1c9dbefd210a1ddee105e02bc000d7e6\"]}\n",
    "\n",
    "Now we can start to put inputs in the dataset:\n",
    "\n",
    "curl -X PUT http://127.0.0.1:5984/test_1/1c9dbefd210a1ddee105e02bc000d7e6 -d \"{\\\"enterprise\\\":\\\"apple\\\",\\\"phone\\\":\\\"iphone\\\"}\"\n",
    "\n",
    "get a file"
    "\n",
    "curl -X GET http://127.0.0.1:5984/test1/1c9dbefd210a1ddee105e02bc000d7e6 (id)"
    "\n",
    "Delate FIle" 
    "\n",
    "curl -X DELETE http://127.0.0.1:5984/test_1/1c9dbefd210a1ddee105e02bc000d7e6?rev=1-f5f870c5b307bf7a8ac1fd8a5da5ae64"
    "\n",
    "\n",
    "\n",
    "Replication\n",
    "\n",
    "curl -H \"Content-Type: application/json\" http://127.0.0.1:5984/_replicate -d \"{\\\"source\\\":\\\"andystoys\\\", \\\"target\\\":\\\"http://localhost:5984/andystoys_consol\\\", \\\"continuous\\\":true}\"\n",
    "\n",
    "\n",
    "Fuentes:\n",
    "\n",
    "https://dev.to/codehakase/the-couchdb-replicator-database---a-short-overview-3j86\n",
    "\n",
    "https://mkyong.com/web/curl-post-json-data-on-windows/\n",
    "\n",
    "https://guide.couchdb.org/draft/replication.html"
   ]
  },
  {
   "cell_type": "code",
   "execution_count": null,
   "metadata": {},
   "outputs": [],
   "source": []
  }
 ],
 "metadata": {
  "kernelspec": {
   "display_name": "Python 3",
   "language": "python",
   "name": "python3"
  },
  "language_info": {
   "codemirror_mode": {
    "name": "ipython",
    "version": 3
   },
   "file_extension": ".py",
   "mimetype": "text/x-python",
   "name": "python",
   "nbconvert_exporter": "python",
   "pygments_lexer": "ipython3",
   "version": "3.7.1"
  }
 },
 "nbformat": 4,
 "nbformat_minor": 2
}
